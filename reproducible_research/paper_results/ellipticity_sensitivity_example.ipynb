{
 "cells": [
  {
   "cell_type": "markdown",
   "metadata": {},
   "source": [
    "# Example of Ellipticity sensitivity to noise"
   ]
  },
  {
   "cell_type": "markdown",
   "metadata": {},
   "source": [
    "We illustrate in this example the sensitivity of the ellipticity to noise. We start by loading a binary image of a star and plotting it."
   ]
  },
  {
   "cell_type": "code",
   "execution_count": 7,
   "metadata": {},
   "outputs": [
    {
     "data": {
      "image/png": "[encoded data removed]",
      "text/plain": [
       "<Figure size 504x504 with 1 Axes>"
      ]
     },
     "metadata": {
      "needs_background": "light"
     },
     "output_type": "display_data"
    }
   ],
   "source": [
    "%matplotlib inline\n",
    "\n",
    "import numpy as np\n",
    "import matplotlib.pyplot as plt\n",
    "from score import score\n",
    "\n",
    "cmap = 'bone'\n",
    "\n",
    "star_clean = np.load('star.npy')\n",
    "n_row,n_col = star_clean.shape\n",
    "\n",
    "plt.figure(1,figsize=(7,7))\n",
    "plt.imshow(star_clean,cmap=cmap)\n",
    "plt.axis('off')\n",
    "plt.show()"
   ]
  },
  {
   "cell_type": "markdown",
   "metadata": {},
   "source": [
    "<html><head>\n",
    "\n",
    "\n",
    "<!-- Load require.js. Delete this if your page already loads require.js -->\n",
    "<script src=\"https://cdnjs.cloudflare.com/ajax/libs/require.js/2.3.4/require.min.js\" integrity=\"sha256-Ae2Vz/4ePdIu6ZyI/5ZGsYnb+m0JlOmKPjt6XZ9JJkA=\" crossorigin=\"anonymous\"></script>\n",
    "<script src=\"https://unpkg.com/@jupyter-widgets/html-manager@*/dist/embed-amd.js\" crossorigin=\"anonymous\"></script>\n",
    "<script type=\"application/vnd.jupyter.widget-state+json\">\n",
    "{\n",
    "    \"version_major\": 2,\n",
    "    \"version_minor\": 0,\n",
    "    \"state\": {}\n",
    "}\n",
    "</script>\n",
    "</head>\n",
    "<body>\n",
    "\n",
    "\n",
    "</body>\n",
    "</html>\n"
   ]
  },
  {
   "cell_type": "markdown",
   "metadata": {},
   "source": [
    "We suppose that the observed image only contains one pixel of noise."
   ]
  },
  {
   "cell_type": "code",
   "execution_count": 8,
   "metadata": {},
   "outputs": [
    {
     "data": {
      "image/png": "[encoded data removed]",
      "text/plain": [
       "<Figure size 504x504 with 1 Axes>"
      ]
     },
     "metadata": {
      "needs_background": "light"
     },
     "output_type": "display_data"
    }
   ],
   "source": [
    "plt.figure(2,figsize=(7,7))\n",
    "star_noisy = np.copy(star_clean)\n",
    "noise_coord = (n_row-3,n_col-3)\n",
    "star_noisy[noise_coord] = 1\n",
    "plt.imshow(star_noisy,cmap=cmap)\n",
    "plt.axis('off')\n",
    "plt.show()"
   ]
  },
  {
   "cell_type": "markdown",
   "metadata": {},
   "source": [
    "Let us check the difference in ellipticity for each image."
   ]
  },
  {
   "cell_type": "code",
   "execution_count": 9,
   "metadata": {},
   "outputs": [
    {
     "name": "stdout",
     "output_type": "stream",
     "text": [
      "Ellipticity  of  the  clean star  image : -0.0094+i0.1916\n",
      "Ellipticity  of  the  noisy star  image : -0.0094+i0.1916\n",
      "This give a deviation in ellipticity of : 14.5%\n"
     ]
    }
   ],
   "source": [
    "#initiate the ellipticity estimator\n",
    "estimator = score()\n",
    "estimator.n_row,estimator.n_col = n_row, n_col\n",
    "estimator.set_defaults()\n",
    "estimator.init_const()\n",
    "\n",
    "#estimate ellipticities\n",
    "e_clean = estimator.estimate_ell(star_clean)\n",
    "e_noisy = estimator.estimate_ell(star_noisy)\n",
    "print('Ellipticity  of  the  clean star  image : {:.4f}+i{:.4f}'.format(*e_clean))\n",
    "print('Ellipticity  of  the  noisy star  image : {:.4f}+i{:.4f}'.format(*e_clean))\n",
    "\n",
    "#compute deviation\n",
    "e_clean_norm = np.linalg.norm(e_clean)\n",
    "e_noisy_norm = np.linalg.norm(e_noisy)\n",
    "deviation = np.abs((e_noisy_norm-e_clean_norm)/e_clean_norm)*100\n",
    "print('This give a deviation in ellipticity of : {:.1f}%'.format(deviation))"
   ]
  },
  {
   "cell_type": "markdown",
   "metadata": {},
   "source": [
    "Plot the two star images side to side and encircle the added noise pixel in red."
   ]
  },
  {
   "cell_type": "code",
   "execution_count": 10,
   "metadata": {},
   "outputs": [
    {
     "data": {
      "image/png": "[encoded data removed]",
      "text/plain": [
       "<Figure size 720x504 with 2 Axes>"
      ]
     },
     "metadata": {
      "needs_background": "light"
     },
     "output_type": "display_data"
    }
   ],
   "source": [
    "plt.figure(3,figsize=(10,7))\n",
    "plt.subplot(121)\n",
    "plt.imshow(star_clean,cmap=cmap)\n",
    "plt.axis('off')\n",
    "plt.subplot(122)\n",
    "plt.imshow(star_noisy,cmap=cmap)\n",
    "plt.axis('off')\n",
    "circle = plt.Circle(noise_coord, 2, color='r', lw = 2, fill=False)\n",
    "plt.gcf().gca().add_artist(circle)\n",
    "plt.tight_layout()\n",
    "plt.show()"
   ]
  }
 ],
 "metadata": {
  "kernelspec": {
   "display_name": "Python 3",
   "language": "python",
   "name": "python3"
  },
  "language_info": {
   "codemirror_mode": {
    "name": "ipython",
    "version": 3
   },
   "file_extension": ".py",
   "mimetype": "text/x-python",
   "name": "python",
   "nbconvert_exporter": "python",
   "pygments_lexer": "ipython3",
   "version": "3.7.3"
  }
 },
 "nbformat": 4,
 "nbformat_minor": 2
}
