{
 "cells": [
  {
   "cell_type": "markdown",
   "metadata": {},
   "source": [
    "# Example 2 : Deconvolution of Multiple Images with Different Parameter Values\n",
    "\n",
    "In this example, we show how to use `score` on multiple images and also with different instances to test different values of the same parameter.\n",
    "\n",
    "Let us start with the imports."
   ]
  },
  {
   "cell_type": "code",
   "execution_count": 2,
   "metadata": {},
   "outputs": [],
   "source": [
    "from score import score\n",
    "import numpy as np"
   ]
  },
  {
   "cell_type": "markdown",
   "metadata": {},
   "source": [
    "The load the data."
   ]
  },
  {
   "cell_type": "code",
   "execution_count": 3,
   "metadata": {},
   "outputs": [],
   "source": [
    "# %% load data\n",
    "#true galaxies\n",
    "gals = np.load('true_galaxies.npy')\n",
    "#observed galaxies\n",
    "gals_obs = np.load('observed_galaxies.npy')\n",
    "#Point Spread Function\n",
    "psfs = np.load('psfs.npy')"
   ]
  },
  {
   "cell_type": "markdown",
   "metadata": {},
   "source": [
    "In this example, we test different values of gamma. Therefore, we instanciate `score` two times, each time giving the value of gamma we want to test. Here `g1` is the instance where `gamma=1` and `g0` is the one where `gamma=0`. We would also like to compare the performance of these two instances by looking at the shape error so we instanciate empty error lists."
   ]
  },
  {
   "cell_type": "code",
   "execution_count": 6,
   "metadata": {},
   "outputs": [],
   "source": [
    "# %% perform deconvolution of the chosen galaxy image for gamma = 0 and 1\n",
    "#initiate two instances of score\n",
    "#set the value of gamma\n",
    "g1 = score(gamma=1,verbose=False)\n",
    "g0 = score(gamma=0,verbose=False,rip=False)\n",
    "#initiate lists of ellipticity relative errors\n",
    "g1_error_list = list()\n",
    "g0_error_list = list()"
   ]
  },
  {
   "cell_type": "markdown",
   "metadata": {},
   "source": [
    "We now loop on the galaxies and update the error list every time.\n",
    "> * `psf` parameter is required for deconvolution\n",
    "*  `ground_truth` parameter is optional and allows to estimates error like the `relative ellipticity error`"
   ]
  },
  {
   "cell_type": "code",
   "execution_count": 7,
   "metadata": {},
   "outputs": [
    {
     "name": "stderr",
     "output_type": "stream",
     "text": [
      "/Users/fnammour/Documents/Librairies/score/cadmos_lib.py:104: ComplexWarning: Casting complex values to real discards the imaginary part\n",
      "  coeff[s] = trafo.adjoint_transform(temp, do_norm=False)\n"
     ]
    }
   ],
   "source": [
    "#loop\n",
    "for obs, psf, gt in zip(gals_obs,psfs,gals):\n",
    "    #deconvolve\n",
    "    g1.deconvolve(obs=obs,ground_truth=gt,psf=psf)\n",
    "    g0.deconvolve(obs=obs,ground_truth=gt,psf=psf)\n",
    "    #update ellipticity error lists\n",
    "    g1_error_list += [g1.relative_ell_error]\n",
    "    g0_error_list += [g0.relative_ell_error]"
   ]
  },
  {
   "cell_type": "markdown",
   "metadata": {},
   "source": [
    "We create numpy arrays out of the lists to be able to easily manipulate them with numpy."
   ]
  },
  {
   "cell_type": "code",
   "execution_count": 8,
   "metadata": {},
   "outputs": [],
   "source": [
    "g1_error = np.array(g1_error_list)\n",
    "g0_error = np.array(g0_error_list)"
   ]
  },
  {
   "cell_type": "markdown",
   "metadata": {},
   "source": [
    "We compute and print the mean ellipticity relative error for each value of `gamma`."
   ]
  },
  {
   "cell_type": "code",
   "execution_count": 9,
   "metadata": {},
   "outputs": [
    {
     "name": "stdout",
     "output_type": "stream",
     "text": [
      "Mean Ellipticity Error for gamma=1: 0.1248958685951791\n",
      "Mean Ellipticity Error for gamma=0: 0.3323280914723073\n"
     ]
    }
   ],
   "source": [
    "# %% show results\n",
    "print('Mean Ellipticity Error for gamma=1: {}'.format(g1_error.mean()))\n",
    "print('Mean Ellipticity Error for gamma=0: {}'.format(g0_error.mean()))"
   ]
  }
 ],
 "metadata": {
  "kernelspec": {
   "display_name": "Python 3",
   "language": "python",
   "name": "python3"
  },
  "language_info": {
   "codemirror_mode": {
    "name": "ipython",
    "version": 3
   },
   "file_extension": ".py",
   "mimetype": "text/x-python",
   "name": "python",
   "nbconvert_exporter": "python",
   "pygments_lexer": "ipython3",
   "version": "3.7.3"
  }
 },
 "nbformat": 4,
 "nbformat_minor": 2
}
